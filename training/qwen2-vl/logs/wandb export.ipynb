{
 "cells": [
  {
   "cell_type": "code",
   "id": "initial_id",
   "metadata": {
    "collapsed": true,
    "ExecuteTime": {
     "end_time": "2024-10-16T03:39:33.301227Z",
     "start_time": "2024-10-16T03:39:30.986932Z"
    }
   },
   "source": [
    "import wandb\n",
    "\n",
    "api = wandb.Api()\n",
    "runs = list(api.runs('aisg-meme/qwen2-vl', per_page=200))"
   ],
   "outputs": [],
   "execution_count": 1
  },
  {
   "metadata": {
    "ExecuteTime": {
     "end_time": "2024-10-16T03:39:33.316990Z",
     "start_time": "2024-10-16T03:39:33.311228Z"
    }
   },
   "cell_type": "code",
   "source": "runs = [r for r in runs if 'checkpoint-' in r.name or 'pretrained' in r.name]  # filter out eval runs",
   "id": "f171264afe3b10ab",
   "outputs": [],
   "execution_count": 2
  },
  {
   "metadata": {
    "ExecuteTime": {
     "end_time": "2024-10-16T03:40:56.838098Z",
     "start_time": "2024-10-16T03:39:33.320994Z"
    }
   },
   "cell_type": "code",
   "source": "runs_dict = {r.name: r.history() for r in runs}",
   "id": "9c1b01ae70375f73",
   "outputs": [],
   "execution_count": 3
  },
  {
   "metadata": {
    "ExecuteTime": {
     "end_time": "2024-10-16T03:40:57.107613Z",
     "start_time": "2024-10-16T03:40:57.092615Z"
    }
   },
   "cell_type": "code",
   "source": "runs_dict['qwen2-vl-7b-pissa-r128-a256-lr1e4-with-sg-no-eval-sampling-/checkpoint-450']",
   "id": "220fb32d0946ae24",
   "outputs": [
    {
     "data": {
      "text/plain": [
       "   eval/auroc  eval/runtime  train/global_step  eval/steps_per_second  \\\n",
       "0    0.778932     1996.7636                  0                  0.104   \n",
       "\n",
       "   _runtime  eval/samples_per_second  eval/model_preparation_time  eval/acc  \\\n",
       "0   0.49507                    1.451                       0.0064  0.781498   \n",
       "\n",
       "   _step    _timestamp  \n",
       "0      0  1.728287e+09  "
      ],
      "text/html": [
       "<div>\n",
       "<style scoped>\n",
       "    .dataframe tbody tr th:only-of-type {\n",
       "        vertical-align: middle;\n",
       "    }\n",
       "\n",
       "    .dataframe tbody tr th {\n",
       "        vertical-align: top;\n",
       "    }\n",
       "\n",
       "    .dataframe thead th {\n",
       "        text-align: right;\n",
       "    }\n",
       "</style>\n",
       "<table border=\"1\" class=\"dataframe\">\n",
       "  <thead>\n",
       "    <tr style=\"text-align: right;\">\n",
       "      <th></th>\n",
       "      <th>eval/auroc</th>\n",
       "      <th>eval/runtime</th>\n",
       "      <th>train/global_step</th>\n",
       "      <th>eval/steps_per_second</th>\n",
       "      <th>_runtime</th>\n",
       "      <th>eval/samples_per_second</th>\n",
       "      <th>eval/model_preparation_time</th>\n",
       "      <th>eval/acc</th>\n",
       "      <th>_step</th>\n",
       "      <th>_timestamp</th>\n",
       "    </tr>\n",
       "  </thead>\n",
       "  <tbody>\n",
       "    <tr>\n",
       "      <th>0</th>\n",
       "      <td>0.778932</td>\n",
       "      <td>1996.7636</td>\n",
       "      <td>0</td>\n",
       "      <td>0.104</td>\n",
       "      <td>0.49507</td>\n",
       "      <td>1.451</td>\n",
       "      <td>0.0064</td>\n",
       "      <td>0.781498</td>\n",
       "      <td>0</td>\n",
       "      <td>1.728287e+09</td>\n",
       "    </tr>\n",
       "  </tbody>\n",
       "</table>\n",
       "</div>"
      ]
     },
     "execution_count": 4,
     "metadata": {},
     "output_type": "execute_result"
    }
   ],
   "execution_count": 4
  },
  {
   "metadata": {
    "ExecuteTime": {
     "end_time": "2024-10-16T03:40:57.182614Z",
     "start_time": "2024-10-16T03:40:57.123615Z"
    }
   },
   "cell_type": "code",
   "source": [
    "import pandas as pd\n",
    "runs_dict: dict[str, pd.DataFrame]\n",
    "# combine all runs into one dataframe with run name as the index\n",
    "df = pd.concat(runs_dict, names=['run_name'])\n",
    "# remove multi index\n",
    "df.reset_index(inplace=True)\n",
    "df.set_index('run_name', inplace=True)\n",
    "df.drop(columns='level_1', inplace=True)\n",
    "df.to_csv('eval_results.csv')"
   ],
   "id": "f961ba9391cef459",
   "outputs": [],
   "execution_count": 5
  }
 ],
 "metadata": {
  "kernelspec": {
   "display_name": "Python 3",
   "language": "python",
   "name": "python3"
  },
  "language_info": {
   "codemirror_mode": {
    "name": "ipython",
    "version": 2
   },
   "file_extension": ".py",
   "mimetype": "text/x-python",
   "name": "python",
   "nbconvert_exporter": "python",
   "pygments_lexer": "ipython2",
   "version": "2.7.6"
  }
 },
 "nbformat": 4,
 "nbformat_minor": 5
}
