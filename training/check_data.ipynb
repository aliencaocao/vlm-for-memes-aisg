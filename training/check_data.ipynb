{
 "cells": [
  {
   "cell_type": "code",
   "id": "initial_id",
   "metadata": {
    "collapsed": true,
    "ExecuteTime": {
     "end_time": "2024-09-05T04:07:30.215098Z",
     "start_time": "2024-09-05T04:07:30.209228Z"
    }
   },
   "source": "import orjson",
   "outputs": [],
   "execution_count": 13
  },
  {
   "metadata": {
    "ExecuteTime": {
     "end_time": "2024-09-05T04:07:31.844819Z",
     "start_time": "2024-09-05T04:07:30.224776Z"
    }
   },
   "cell_type": "code",
   "source": [
    "# Find duplicates based on 'id'\n",
    "def find_duplicates_by_id(data):\n",
    "    seen = set()\n",
    "    duplicates = list()\n",
    "    for item in data:\n",
    "        item_id = str(item['id'])\n",
    "        if item_id in seen:\n",
    "            duplicates.append(item)\n",
    "        else:\n",
    "            seen.add(item_id)\n",
    "    return duplicates\n",
    "\n",
    "# Find duplicates based on 'conversations'\n",
    "def find_duplicates_by_conversations(data):\n",
    "    seen = set()\n",
    "    duplicates = list()\n",
    "    for item in data:\n",
    "        item_conversations = str(item['conversations'])\n",
    "        if item_conversations in seen:\n",
    "            duplicates.append(item)\n",
    "        else:\n",
    "            seen.add(item_conversations)\n",
    "    return duplicates\n",
    "\n",
    "# Load data\n",
    "with open('all_with_sg.json', 'rb') as f:\n",
    "    all_with_sg = orjson.loads(f.read())\n",
    "\n",
    "with open('all_without_sg.json', 'rb') as f:\n",
    "    all_without_sg = orjson.loads(f.read())"
   ],
   "id": "b7af21c2dd402e60",
   "outputs": [],
   "execution_count": 14
  },
  {
   "metadata": {
    "ExecuteTime": {
     "end_time": "2024-09-05T04:07:32.967381Z",
     "start_time": "2024-09-05T04:07:31.878378Z"
    }
   },
   "cell_type": "code",
   "source": [
    "# Find duplicates\n",
    "duplicates_by_id = find_duplicates_by_id(all_with_sg)\n",
    "duplicates_by_conversations = find_duplicates_by_conversations(all_without_sg)"
   ],
   "id": "34e0dfb91a43297e",
   "outputs": [],
   "execution_count": 15
  },
  {
   "metadata": {
    "ExecuteTime": {
     "end_time": "2024-09-05T04:07:33.499985Z",
     "start_time": "2024-09-05T04:07:33.001292Z"
    }
   },
   "cell_type": "code",
   "source": [
    "# deduplicate using id\n",
    "dedup_dict = {sample['id']: sample for sample in all_with_sg}\n",
    "dedup_list = list(dedup_dict.values())\n",
    "len(dedup_list)\n",
    "with open('all_with_sg_dedup.json', 'wb+') as f:\n",
    "    f.write(orjson.dumps(dedup_list))"
   ],
   "id": "7565b1117e7a7f44",
   "outputs": [],
   "execution_count": 16
  },
  {
   "metadata": {
    "ExecuteTime": {
     "end_time": "2024-09-05T04:07:33.918266Z",
     "start_time": "2024-09-05T04:07:33.548655Z"
    }
   },
   "cell_type": "code",
   "source": [
    "# Do the same for without sg version\n",
    "dedup_dict = {sample['id']: sample for sample in all_without_sg}\n",
    "dedup_list = list(dedup_dict.values())\n",
    "len(dedup_list)\n",
    "with open('all_without_sg_dedup.json', 'wb+') as f:\n",
    "    f.write(orjson.dumps(dedup_list))"
   ],
   "id": "ac55db5fb071b01c",
   "outputs": [],
   "execution_count": 17
  },
  {
   "metadata": {
    "ExecuteTime": {
     "end_time": "2024-09-05T04:07:34.134389Z",
     "start_time": "2024-09-05T04:07:33.967356Z"
    }
   },
   "cell_type": "code",
   "source": [
    "# find which dataset each sample belong\n",
    "sample_count = {}\n",
    "wiki_count = 0\n",
    "for sample in all_with_sg:\n",
    "    if sample['image']:\n",
    "        if sample['image'].startswith('..') and 'sg_context' in sample['image']:\n",
    "            wiki_count += 1\n",
    "        elif sample['image'].split('/')[0] not in sample_count:\n",
    "            sample_count[sample['image'].split('/')[0]] = [sample['image']]\n",
    "        else:\n",
    "            sample_count[sample['image'].split('/')[0]] += [sample['image']]\n",
    "    else:\n",
    "        wiki_count += 1"
   ],
   "id": "7a1c76c59a1a77d7",
   "outputs": [],
   "execution_count": 18
  },
  {
   "metadata": {
    "ExecuteTime": {
     "end_time": "2024-09-05T04:08:03.266924Z",
     "start_time": "2024-09-05T04:07:34.183167Z"
    }
   },
   "cell_type": "code",
   "source": [
    "# Train test split\n",
    "# Using @bukittimahpoly, @childrenholdingguns and @diaozuihotline, @tkk.jc as test set\n",
    "from tqdm import tqdm\n",
    "\n",
    "with open('all_with_sg_dedup.json', 'rb') as f:\n",
    "    train_with_sg = orjson.loads(f.read())\n",
    "\n",
    "with open('all_without_sg_dedup.json', 'rb') as f:\n",
    "    train_without_sg = orjson.loads(f.read())\n",
    "\n",
    "test_set_datasets = ['ig_bukittimahpoly', 'ig_childrenholdingguns', 'ig_diaozuihotline', 'ig_tkk_jc']\n",
    "test_set = []\n",
    "\n",
    "for sample in tqdm(train_without_sg.copy()):\n",
    "    if sample['image'].split('/')[0] in test_set_datasets:\n",
    "        train_with_sg.remove(sample)\n",
    "        train_without_sg.remove(sample)\n",
    "        test_set.append(sample)"
   ],
   "id": "2d93b6671fd76ba5",
   "outputs": [
    {
     "name": "stderr",
     "output_type": "stream",
     "text": [
      "100%|██████████| 111575/111575 [00:27<00:00, 4019.90it/s] \n"
     ]
    }
   ],
   "execution_count": 19
  },
  {
   "metadata": {
    "ExecuteTime": {
     "end_time": "2024-09-05T04:08:04.015591Z",
     "start_time": "2024-09-05T04:08:03.300996Z"
    }
   },
   "cell_type": "code",
   "source": [
    "# Save train and test set\n",
    "with open('train_with_sg_dedup.json', 'wb+') as f:\n",
    "    f.write(orjson.dumps(train_with_sg))\n",
    "    \n",
    "with open('train_without_sg_dedup.json', 'wb+') as f:\n",
    "    f.write(orjson.dumps(train_without_sg))\n",
    "    \n",
    "with open('test.json', 'wb+') as f:\n",
    "    f.write(orjson.dumps(test_set))"
   ],
   "id": "17dbc9199bb5c8ea",
   "outputs": [],
   "execution_count": 20
  },
  {
   "metadata": {
    "ExecuteTime": {
     "end_time": "2024-09-05T07:10:26.395965Z",
     "start_time": "2024-09-05T07:10:24.303709Z"
    }
   },
   "cell_type": "code",
   "source": [
    "# fix image path for sg context as it includes scraping\n",
    "with open('train_with_sg_dedup.json', encoding='utf-8') as f:\n",
    "    text = f.read()\n",
    "\n",
    "text = text.replace(r'..\\/scraping\\/', '').replace('../scraping/', '')\n",
    "with open('train_with_sg_dedup.json', 'w', encoding='utf-8') as f:\n",
    "    f.write(text)"
   ],
   "id": "9a2d2c73f5686db",
   "outputs": [],
   "execution_count": 11
  },
  {
   "metadata": {
    "ExecuteTime": {
     "end_time": "2024-10-17T15:50:20.694365Z",
     "start_time": "2024-10-17T15:50:20.589849Z"
    }
   },
   "cell_type": "code",
   "source": [
    "import orjson\n",
    "\n",
    "with open('test.json', 'rb') as f:\n",
    "    test = orjson.loads(f.read())"
   ],
   "id": "d2cbe5b23f324e8a",
   "outputs": [],
   "execution_count": 4
  },
  {
   "metadata": {
    "ExecuteTime": {
     "end_time": "2024-10-17T15:50:26.200683Z",
     "start_time": "2024-10-17T15:50:26.183683Z"
    }
   },
   "cell_type": "code",
   "source": [
    "img_paths = ['../scraping/' + x['image'] for x in test]\n",
    "with open('test.stdin', 'w') as f:\n",
    "    f.write('\\n'.join(img_paths))"
   ],
   "id": "51880d52bcb53620",
   "outputs": [],
   "execution_count": 5
  }
 ],
 "metadata": {
  "kernelspec": {
   "display_name": "Python 3",
   "language": "python",
   "name": "python3"
  },
  "language_info": {
   "codemirror_mode": {
    "name": "ipython",
    "version": 2
   },
   "file_extension": ".py",
   "mimetype": "text/x-python",
   "name": "python",
   "nbconvert_exporter": "python",
   "pygments_lexer": "ipython2",
   "version": "2.7.6"
  }
 },
 "nbformat": 4,
 "nbformat_minor": 5
}
