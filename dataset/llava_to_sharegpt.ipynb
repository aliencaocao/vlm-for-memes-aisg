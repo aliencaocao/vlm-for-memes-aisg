{
 "cells": [
  {
   "cell_type": "code",
   "id": "initial_id",
   "metadata": {
    "collapsed": true,
    "ExecuteTime": {
     "end_time": "2024-09-14T10:35:26.935392Z",
     "start_time": "2024-09-14T10:35:26.910366Z"
    }
   },
   "source": "import orjson",
   "outputs": [],
   "execution_count": 1
  },
  {
   "metadata": {
    "ExecuteTime": {
     "end_time": "2024-09-14T10:39:23.498982Z",
     "start_time": "2024-09-14T10:39:22.415798Z"
    }
   },
   "cell_type": "code",
   "source": [
    "with open('../train_without_sg_memes.json', 'r') as f:\n",
    "    train_without_sg_memes = orjson.loads(f.read())"
   ],
   "id": "f997b1b9c971239f",
   "outputs": [],
   "execution_count": 9
  },
  {
   "metadata": {
    "ExecuteTime": {
     "end_time": "2024-09-14T10:39:24.259167Z",
     "start_time": "2024-09-14T10:39:23.839564Z"
    }
   },
   "cell_type": "code",
   "source": [
    "sharegpt_format = []\n",
    "for sample in train_without_sg_memes:\n",
    "    s = {}\n",
    "    s['messages'] = []\n",
    "    for msg in sample['conversations']:\n",
    "        s['messages'].append({\n",
    "            'content': msg['value'],\n",
    "            'role': 'user' if msg['from'] == 'human' else 'assistant'\n",
    "        })\n",
    "    s['images'] = [sample['image']] if sample['image'] else []\n",
    "    del sample['conversations']\n",
    "    del sample['image']\n",
    "    s['metadata'] = sample.copy()\n",
    "    sharegpt_format.append(s)"
   ],
   "id": "47e3da50f4219176",
   "outputs": [],
   "execution_count": 10
  },
  {
   "metadata": {
    "ExecuteTime": {
     "end_time": "2024-09-14T10:39:26.176783Z",
     "start_time": "2024-09-14T10:39:25.523954Z"
    }
   },
   "cell_type": "code",
   "source": [
    "with open('../train_without_sg_memes_sharegpt.json', 'wb') as f:\n",
    "    f.write(orjson.dumps(sharegpt_format))"
   ],
   "id": "57a413b885b37f6b",
   "outputs": [],
   "execution_count": 11
  }
 ],
 "metadata": {
  "kernelspec": {
   "display_name": "Python 3",
   "language": "python",
   "name": "python3"
  },
  "language_info": {
   "codemirror_mode": {
    "name": "ipython",
    "version": 2
   },
   "file_extension": ".py",
   "mimetype": "text/x-python",
   "name": "python",
   "nbconvert_exporter": "python",
   "pygments_lexer": "ipython2",
   "version": "2.7.6"
  }
 },
 "nbformat": 4,
 "nbformat_minor": 5
}
