{
 "cells": [
  {
   "cell_type": "code",
   "id": "initial_id",
   "metadata": {
    "collapsed": true,
    "ExecuteTime": {
     "end_time": "2024-05-07T01:37:14.124031Z",
     "start_time": "2024-05-07T01:37:14.110887Z"
    }
   },
   "source": [
    "import glob\n",
    "label_csvs = glob.glob('results/*.csv')"
   ],
   "outputs": [],
   "execution_count": 5
  },
  {
   "metadata": {
    "ExecuteTime": {
     "end_time": "2024-05-07T01:37:15.825685Z",
     "start_time": "2024-05-07T01:37:14.671881Z"
    }
   },
   "cell_type": "code",
   "source": [
    "import pandas as pd\n",
    "labels = pd.concat([pd.read_csv(label_csv) for label_csv in label_csvs])"
   ],
   "id": "364299fd6ec1e9bf",
   "outputs": [],
   "execution_count": 6
  },
  {
   "metadata": {
    "ExecuteTime": {
     "end_time": "2024-05-07T01:37:15.887487Z",
     "start_time": "2024-05-07T01:37:15.828196Z"
    }
   },
   "cell_type": "code",
   "source": "labels['ds_id'] = labels['image'].apply(lambda x: x.split('/')[0])",
   "id": "d625acea9e6f60c6",
   "outputs": [],
   "execution_count": 7
  },
  {
   "metadata": {
    "ExecuteTime": {
     "end_time": "2024-05-07T01:37:16.387626Z",
     "start_time": "2024-05-07T01:37:16.360879Z"
    }
   },
   "cell_type": "code",
   "source": "labels['ds_id'].value_counts()",
   "id": "ab3ffa134dcd5c79",
   "outputs": [
    {
     "data": {
      "text/plain": [
       "ds_id\n",
       "ig_sgag                               18917\n",
       "mami                                  11081\n",
       "met_meme                              10021\n",
       "hateful_memes                          8993\n",
       "harmeme                                7094\n",
       "6992_meme                              6974\n",
       "memecap                                6375\n",
       "memes_classified_and_labelled          5685\n",
       "bawankar_reddit_memes_and_comments     3212\n",
       "hateful_memes_supplement               3146\n",
       "filiptronicek_reddit_memes             3095\n",
       "tamil_troll                            2963\n",
       "ig_memedefsg                           1961\n",
       "ig_dover_poly                          1821\n",
       "ig_socialstudies                       1525\n",
       "r_singapore                            1461\n",
       "fb_sutdmemes                           1074\n",
       "harsh_singh_reddit_memes               1060\n",
       "ig_tkk_jc                               983\n",
       "ig_bukittimahpoly                       935\n",
       "mind                                    796\n",
       "thakkinapalli_memes_classification      753\n",
       "MultiOFF_Dataset                        743\n",
       "ig_yourgirlfriendiswhosia               740\n",
       "ig_diaozuihotline                       737\n",
       "jafer_covid_reddit_memes                669\n",
       "ig_socialstudies_workbook               353\n",
       "indian_memes                            300\n",
       "ig_childrenholdingguns                  242\n",
       "ig_rafflesplacemrt                       68\n",
       "Name: count, dtype: int64"
      ]
     },
     "execution_count": 8,
     "metadata": {},
     "output_type": "execute_result"
    }
   ],
   "execution_count": 8
  },
  {
   "metadata": {
    "ExecuteTime": {
     "end_time": "2024-05-05T08:42:41.203681Z",
     "start_time": "2024-05-05T08:42:41.179217Z"
    }
   },
   "cell_type": "code",
   "source": [
    "memedef = pd.read_csv('results/ig_memedefsg.csv')\n",
    "memedef_raw = pd.read_csv('ig_memedefsg/metadata.csv')"
   ],
   "id": "3e00905e98b8c680",
   "outputs": [],
   "execution_count": 32
  },
  {
   "metadata": {
    "ExecuteTime": {
     "end_time": "2024-05-05T08:44:58.229808Z",
     "start_time": "2024-05-05T08:44:58.212810Z"
    }
   },
   "cell_type": "code",
   "source": "diff = set(memedef_raw['img'].apply(lambda x: x.split('\\\\')[1])) - set(memedef['image'].apply(lambda x: x.split('/')[1]))",
   "id": "d55683bc933e3e57",
   "outputs": [],
   "execution_count": 39
  },
  {
   "metadata": {
    "ExecuteTime": {
     "end_time": "2024-05-05T08:50:48.000734Z",
     "start_time": "2024-05-05T08:50:47.991734Z"
    }
   },
   "cell_type": "code",
   "source": [
    "diff = sorted(list(diff))\n",
    "diff"
   ],
   "id": "abac80c7de09f730",
   "outputs": [
    {
     "data": {
      "text/plain": [
       "['2018-09-30_04-02-09_UTC.png',\n",
       " '2019-09-30_13-17-41_UTC.png',\n",
       " '2020-05-04_03-25-53_UTC.png',\n",
       " '2020-05-07_03-31-40_UTC.png',\n",
       " '2021-05-06_13-15-37_UTC.png',\n",
       " '2021-05-18_10-12-38_UTC.png',\n",
       " '2021-05-22_05-23-35_UTC.png',\n",
       " '2021-07-19_10-14-16_UTC.png',\n",
       " '2021-08-15_06-54-19_UTC.png',\n",
       " '2021-08-17_07-53-29_UTC.png',\n",
       " '2021-08-21_09-48-39_UTC_2.png',\n",
       " '2021-08-26_06-37-03_UTC.png',\n",
       " '2021-08-27_07-34-47_UTC.png',\n",
       " '2021-08-27_10-05-20_UTC.png',\n",
       " '2021-08-30_06-44-32_UTC.png',\n",
       " '2021-08-31_02-29-12_UTC.png',\n",
       " '2021-08-31_07-42-10_UTC.png',\n",
       " '2021-09-03_05-09-44_UTC.png',\n",
       " '2021-09-07_06-01-31_UTC.png',\n",
       " '2021-09-13_09-51-05_UTC.png',\n",
       " '2021-09-21_10-00-52_UTC_1.png',\n",
       " '2021-09-24_10-35-06_UTC.png',\n",
       " '2021-09-24_11-26-15_UTC.png',\n",
       " '2021-09-30_09-56-11_UTC_2.png',\n",
       " '2021-10-02_14-38-28_UTC_2.png',\n",
       " '2021-10-04_06-33-01_UTC.png',\n",
       " '2021-10-09_04-27-07_UTC.png',\n",
       " '2021-10-10_08-01-05_UTC.png',\n",
       " '2021-10-13_02-21-30_UTC.png',\n",
       " '2021-10-14_02-24-14_UTC.png',\n",
       " '2021-10-15_08-45-24_UTC.png',\n",
       " '2021-10-18_10-43-43_UTC.png',\n",
       " '2021-10-19_04-03-48_UTC_1.png',\n",
       " '2021-10-19_04-03-48_UTC_2.png',\n",
       " '2021-10-19_04-03-48_UTC_5.png',\n",
       " '2021-10-20_12-53-58_UTC.png',\n",
       " '2021-10-28_04-23-29_UTC.png',\n",
       " '2021-11-03_08-14-55_UTC.png',\n",
       " '2021-11-09_03-55-02_UTC.png',\n",
       " '2021-11-10_10-27-14_UTC.png',\n",
       " '2021-11-20_11-12-48_UTC.png',\n",
       " '2021-11-24_05-15-01_UTC.png',\n",
       " '2021-12-13_12-03-13_UTC_1.png',\n",
       " '2021-12-13_12-03-13_UTC_2.png',\n",
       " '2021-12-13_12-03-13_UTC_3.png',\n",
       " '2021-12-14_04-00-09_UTC_1.png',\n",
       " '2021-12-14_04-00-09_UTC_2.png',\n",
       " '2021-12-16_05-50-31_UTC.png',\n",
       " '2021-12-21_12-44-51_UTC.png',\n",
       " '2021-12-22_07-51-35_UTC.png',\n",
       " '2021-12-25_03-10-07_UTC.png',\n",
       " '2021-12-26_05-17-31_UTC.png',\n",
       " '2021-12-29_07-29-10_UTC.png',\n",
       " '2022-01-01_10-08-24_UTC.png',\n",
       " '2022-01-21_09-24-36_UTC.png',\n",
       " '2022-01-27_14-01-09_UTC.png',\n",
       " '2022-02-01_04-00-02_UTC.png',\n",
       " '2022-02-07_14-24-50_UTC.png',\n",
       " '2022-02-11_06-12-45_UTC.png',\n",
       " '2022-02-14_04-01-59_UTC_1.png',\n",
       " '2022-02-14_04-01-59_UTC_2.png',\n",
       " '2022-03-01_01-23-01_UTC.png',\n",
       " '2022-03-03_02-29-31_UTC.png',\n",
       " '2022-03-04_05-46-51_UTC.png',\n",
       " '2022-03-21_02-01-49_UTC.png',\n",
       " '2022-03-24_03-44-02_UTC.png',\n",
       " '2022-03-24_05-23-53_UTC.png',\n",
       " '2022-03-29_08-29-59_UTC_1.png',\n",
       " '2022-03-29_08-29-59_UTC_2.png',\n",
       " '2022-04-19_10-20-51_UTC.png',\n",
       " '2022-04-22_10-01-21_UTC.png',\n",
       " '2022-05-09_02-58-45_UTC.png',\n",
       " '2022-05-15_14-58-10_UTC.png',\n",
       " '2022-06-28_16-44-01_UTC_profile_pic.png',\n",
       " '2022-07-09_12-27-07_UTC.png',\n",
       " '2022-07-16_08-51-22_UTC.png',\n",
       " '2022-08-13_14-24-43_UTC.png',\n",
       " '2022-09-23_08-41-09_UTC.png',\n",
       " '2022-10-02_14-33-48_UTC.png',\n",
       " '2022-11-13_03-56-14_UTC.png',\n",
       " '2023-01-19_04-41-10_UTC.png',\n",
       " '2023-01-22_15-00-12_UTC.png',\n",
       " '2023-01-23_03-32-36_UTC.png',\n",
       " '2023-01-27_07-42-18_UTC.png',\n",
       " '2023-01-29_03-40-52_UTC.png',\n",
       " '2023-02-01_09-04-43_UTC.png',\n",
       " '2023-02-05_10-22-09_UTC.png',\n",
       " '2023-02-11_04-12-43_UTC.png',\n",
       " '2023-02-13_05-25-59_UTC.png',\n",
       " '2023-03-06_07-58-37_UTC_1.png',\n",
       " '2023-03-06_07-58-37_UTC_2.png',\n",
       " '2023-03-06_07-58-37_UTC_3.png',\n",
       " '2023-03-06_07-58-37_UTC_4.png',\n",
       " '2023-07-17_07-56-07_UTC.png',\n",
       " '2023-07-18_06-31-37_UTC.png',\n",
       " '2023-08-22_07-21-06_UTC.png',\n",
       " '2023-12-10_10-02-00_UTC.png',\n",
       " '2024-02-11_12-51-06_UTC_1.png',\n",
       " '2024-02-11_12-51-06_UTC_2.png',\n",
       " '2024-02-11_12-51-06_UTC_3.png',\n",
       " '2024-02-16_12-47-45_UTC.png']"
      ]
     },
     "execution_count": 41,
     "metadata": {},
     "output_type": "execute_result"
    }
   ],
   "execution_count": 41
  }
 ],
 "metadata": {
  "kernelspec": {
   "display_name": "Python 3",
   "language": "python",
   "name": "python3"
  },
  "language_info": {
   "codemirror_mode": {
    "name": "ipython",
    "version": 2
   },
   "file_extension": ".py",
   "mimetype": "text/x-python",
   "name": "python",
   "nbconvert_exporter": "python",
   "pygments_lexer": "ipython2",
   "version": "2.7.6"
  }
 },
 "nbformat": 4,
 "nbformat_minor": 5
}
